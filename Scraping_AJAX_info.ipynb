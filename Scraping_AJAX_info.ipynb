{
 "cells": [
  {
   "cell_type": "markdown",
   "metadata": {},
   "source": [
    "# Scraping AJAX \n",
    "A practice for scraping info from web https://corp.sos.ms.gov/corp/portal/c/page/corpBusinessIdSearch/portal.aspx?#clear=1"
   ]
  },
  {
   "cell_type": "markdown",
   "metadata": {},
   "source": [
    "## AJAX request\n",
    "1. Open the page above on Chrome. Then open View -> Developer -> Developer Tools.\n",
    "2. In developer tools, click Network.\n",
    "3. Search something pretty simple on original page (for example: \"a\").\n",
    "4. In developer tools, we will see a file called \"BusinessNameSearch\", click this file.\n",
    "5. In General section, there is Request URL. This is the url we will used later in python requests.\n",
    "6. In Request Payload, we will see the request format and which we will use python requests to simulate."
   ]
  },
  {
   "cell_type": "markdown",
   "metadata": {},
   "source": [
    "## Simple Version for Diagnostic\n",
    "This is the simpliest code only to see if we can get some reponse or not."
   ]
  },
  {
   "cell_type": "code",
   "execution_count": 1,
   "metadata": {},
   "outputs": [],
   "source": [
    "import requests\n",
    "import json\n",
    "\n",
    "temp = \"a\"\n",
    "r = requests.post(\n",
    "    url='https://corp.sos.ms.gov/corp/Services/MS/CorpServices.asmx/BusinessNameSearch',\n",
    "    json = { \n",
    "        'BusinessName': temp,\n",
    "        'SearchType': \"startingwith\"}\n",
    "    \n",
    ")"
   ]
  },
  {
   "cell_type": "markdown",
   "metadata": {},
   "source": [
    "If everything works well, we can type \n",
    "```python\n",
    "r.json()\n",
    "```\n",
    "and see the list of rearching results."
   ]
  },
  {
   "cell_type": "markdown",
   "metadata": {},
   "source": [
    "Then, we convert result from str to a pd.dataframe."
   ]
  },
  {
   "cell_type": "code",
   "execution_count": 146,
   "metadata": {},
   "outputs": [],
   "source": [
    "import ast # eval function\n",
    "import pandas as pd\n",
    "\n",
    "res_str = r.json()[\"d\"]\n",
    "\n",
    "res = ast.literal_eval(res_str[11:-1])  # list of dict\n",
    "\n",
    "df = pd.DataFrame(res)"
   ]
  },
  {
   "cell_type": "markdown",
   "metadata": {},
   "source": [
    "## Recursive on starting letter A-Z"
   ]
  },
  {
   "cell_type": "code",
   "execution_count": null,
   "metadata": {},
   "outputs": [],
   "source": [
    "import requests\n",
    "import json\n",
    "import ast\n",
    "import pandas as pd\n",
    "\n",
    "output = pd.DataFrame(columns = ['BusinessFormedDate', 'BusinessId', 'BusinessName', 'EntityId',\n",
    "       'FilingId', 'FilingStatus', 'FilingTypeId', 'FilingtypeName',\n",
    "       'NameType'])\n",
    "\n",
    "for i in range(ord('a'), ord('z')+1):\n",
    "    temp = chr(i)\n",
    "\n",
    "    r = requests.post(\n",
    "        url='https://corp.sos.ms.gov/corp/Services/MS/CorpServices.asmx/BusinessNameSearch',\n",
    "        json = { \n",
    "            'BusinessName': temp,\n",
    "            'SearchType': \"startingwith\"}\n",
    "\n",
    "    )\n",
    "    \n",
    "    res_str = r.json()[\"d\"]\n",
    "    res = ast.literal_eval(res_str[11:-1])  # list of dict\n",
    "    df = pd.DataFrame(res)\n",
    "    output = output.append(df, ignore_index=True)\n",
    "\n",
    "output.to_csv(\"MS_Business_info.csv\", index=False)"
   ]
  },
  {
   "cell_type": "markdown",
   "metadata": {},
   "source": [
    "## references\n",
    "http://toddhayton.com/2015/03/11/scraping-ajax-pages-with-python/"
   ]
  },
  {
   "cell_type": "markdown",
   "metadata": {},
   "source": [
    "## Issues\n",
    "1. Web do not support regular expression nor space. Need to type some letters for searching.\n",
    "2. Every time it only response 2000 results.\n",
    "3. No details for the searching results."
   ]
  },
  {
   "cell_type": "markdown",
   "metadata": {},
   "source": [
    "## Recursive\n",
    "A recursive function that searching on all strings with prefix given. \n",
    "If the result row number is greater than 2000, the current strings are treated as prefix for following the searching."
   ]
  },
  {
   "cell_type": "code",
   "execution_count": null,
   "metadata": {},
   "outputs": [],
   "source": [
    "import requests\n",
    "import json\n",
    "import ast\n",
    "import pandas as pd\n",
    "\n",
    "class scrap:\n",
    "    def __init__(self):\n",
    "        self.output = pd.DataFrame(columns = ['BusinessFormedDate', 'BusinessId', 'BusinessName', 'EntityId',\n",
    "                                              'FilingId', 'FilingStatus', 'FilingTypeId', 'FilingtypeName',\n",
    "                                              'NameType'])\n",
    "        \n",
    "        self.letters = list(map(chr, range(ord(\"a\"), ord(\"z\")+1))) + list(map(str,range(10)))\n",
    "        \n",
    "    def foo(self,pre):\n",
    "        for letter in self.letters:\n",
    "            inpt = pre+letter\n",
    "            print(inpt)\n",
    "            r = requests.post(\n",
    "                url='https://corp.sos.ms.gov/corp/Services/MS/CorpServices.asmx/BusinessNameSearch',\n",
    "                json = { \n",
    "                    'BusinessName': inpt,\n",
    "                    'SearchType': \"startingwith\"}\n",
    "            )\n",
    "            res_str = r.json()[\"d\"]\n",
    "            if res_str != '\"\"':\n",
    "                res = ast.literal_eval(res_str[11:-1])\n",
    "                df = pd.DataFrame(res)\n",
    "                if df.shape[0] == 2000:\n",
    "                    self.foo(inpt)\n",
    "                else:\n",
    "                    self.output = self.output.append(df)\n",
    "    \n",
    "    def res(self):\n",
    "        return(self.output)"
   ]
  },
  {
   "cell_type": "markdown",
   "metadata": {},
   "source": [
    "### Example"
   ]
  },
  {
   "cell_type": "code",
   "execution_count": null,
   "metadata": {},
   "outputs": [],
   "source": [
    "a = scrap()\n",
    "a.foo(\"am\")\n",
    "df = a.res()\n",
    "df.shape"
   ]
  }
 ],
 "metadata": {
  "kernelspec": {
   "display_name": "Python 3",
   "language": "python",
   "name": "python3"
  },
  "language_info": {
   "codemirror_mode": {
    "name": "ipython",
    "version": 3
   },
   "file_extension": ".py",
   "mimetype": "text/x-python",
   "name": "python",
   "nbconvert_exporter": "python",
   "pygments_lexer": "ipython3",
   "version": "3.6.4"
  }
 },
 "nbformat": 4,
 "nbformat_minor": 2
}
